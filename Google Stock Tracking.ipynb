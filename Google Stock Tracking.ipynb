{
 "cells": [
  {
   "cell_type": "code",
   "execution_count": 56,
   "id": "780ab353",
   "metadata": {},
   "outputs": [],
   "source": [
    "#import libraries\n",
    "from bs4 import BeautifulSoup\n",
    "import requests\n",
    "import time\n",
    "import datetime\n",
    "\n",
    "import smtplib\n",
    "\n",
    "#import csv"
   ]
  },
  {
   "cell_type": "code",
   "execution_count": 57,
   "id": "5c4e4c7f",
   "metadata": {},
   "outputs": [
    {
     "name": "stdout",
     "output_type": "stream",
     "text": [
      "Stock Name: Alphabet Inc Class A\n",
      "Current Value: 127.46\n"
     ]
    }
   ],
   "source": [
    "URL = 'https://www.google.com/search?q=Google+stock+tracker&sca_esv=558180114&rlz=1C1VIQF_enUS1058US1058&sxsrf=AB5stBh0iyDISm9HYDRqMg3F2hIqI6TvXA%3A1692388112080&ei=EMvfZOmoBPqqqtsPz5K60As&ved=0ahUKEwjp8PeB_eaAAxV6lWoFHU-JDroQ4dUDCBA&uact=5&oq=Google+stock+tracker&gs_lp=Egxnd3Mtd2l6LXNlcnAiFEdvb2dsZSBzdG9jayB0cmFja2VyMggQABiKBRiRAjIFEAAYgAQyBRAAGIAEMggQABgWGB4YDzIGEAAYFhgeMgYQABgWGB4yBhAAGBYYHjIGEAAYFhgeMgYQABgWGB4yBhAAGBYYHkiDPFCHEljyOnABeACQAQCYAaQBoAHBEaoBBDIxLjW4AQPIAQD4AQHCAgoQABhHGNYEGLADwgIKEAAYigUYsAMYQ8ICDhAAGOQCGNYEGLAD2AEBwgIWEC4YigUYxwEY0QMYyAMYsAMYQ9gBAsICBxAjGIoFGCfCAgcQABiKBRhDwgINEC4YigUYxwEY0QMYQ8ICCxAAGIAEGLEDGIMBwgINEAAYigUYsQMYgwEYQ8ICBBAjGCfCAg0QLhiKBRixAxiDARhDwgIQEC4YigUYsQMYxwEY0QMYQ8ICExAuGIoFGLEDGIMBGMcBGNEDGEPCAhEQLhiABBixAxiDARjHARjRA8ICCxAAGIoFGLEDGJECwgIQEAAYgAQYFBiHAhixAxiDAcICDhAAGIoFGLEDGIMBGJECwgIUEC4YigUYsQMYgwEYxwEY0QMYkQLCAggQABiABBixA8ICExAAGIoFGLEDGIMBGJECGEYY-gHCAgoQABiABBgUGIcC4gMEGAAgQYgGAZAGE7oGBggBEAEYCboGBggCEAEYCA&sclient=gws-wiz-serp'\n",
    "\n",
    "headers = {\"User-Agent\": \"Mozilla/5.0 (Windows NT 10.0; Win64; x64) AppleWebKit/537.36 (KHTML, like Gecko) Chrome/115.0.0.0 Safari/537.36\"}\n",
    "\n",
    "# Replace this with the actual HTML snippet\n",
    "html = '<div class=\"PZPZlf ssJ7i B5dxMb\" aria-level=\"2\" data-attrid=\"title\" role=\"heading\">Alphabet Inc Class A</div>'\n",
    "\n",
    "# Parse the HTML content\n",
    "soup = BeautifulSoup(html, 'html.parser')\n",
    "\n",
    "# Use BeautifulSoup to locate the <div> element containing the stock name\n",
    "stock_name_element = soup.find('div', class_='PZPZlf ssJ7i B5dxMb')\n",
    "\n",
    "# Extract the text (stock name) from the element\n",
    "stock_name = stock_name_element.get_text()\n",
    "\n",
    "# Display the stock name\n",
    "print('Stock Name:', stock_name)\n",
    "# Replace this with the actual HTML snippet\n",
    "html = '<span jsname=\"vWLAgc\" class=\"IsqQVc NprOob wT3VGc\">127.46</span>'\n",
    "\n",
    "# Parse the HTML content\n",
    "soup = BeautifulSoup(html, 'html.parser')\n",
    "\n",
    "# Use BeautifulSoup to locate the <span> element containing the current value\n",
    "current_value_element = soup.find('span', class_='IsqQVc NprOob wT3VGc')\n",
    "\n",
    "# Extract the text (current value) from the element\n",
    "current_value = current_value_element.get_text()\n",
    "\n",
    "# Display the current value\n",
    "print('Current Value:', current_value)\n"
   ]
  },
  {
   "cell_type": "code",
   "execution_count": 58,
   "id": "3e4fb04f",
   "metadata": {},
   "outputs": [
    {
     "name": "stdout",
     "output_type": "stream",
     "text": [
      "Current Date and Time: 2023-08-19 17:52:24.394096\n"
     ]
    }
   ],
   "source": [
    "# Create a Timestamp for your output to track when data was collected\n",
    "\n",
    "import datetime\n",
    "\n",
    "current_datetime = datetime.datetime.now()\n",
    "\n",
    "print(\"Current Date and Time:\", current_datetime)"
   ]
  },
  {
   "cell_type": "code",
   "execution_count": 61,
   "id": "00f4c6a5",
   "metadata": {},
   "outputs": [],
   "source": [
    "import csv \n",
    "\n",
    "header = ['Stock', 'Price', 'Date']\n",
    "data = [stock_name, current_value, current_datetime]\n",
    "\n",
    "\n",
    "with open('GoogleStockTracking.csv', 'w', newline='', encoding='UTF8') as f:\n",
    "    writer = csv.writer(f)\n",
    "    writer.writerow(header)\n",
    "    writer.writerow(data)\n",
    "    \n",
    "# 2) Transfer formatted data to CSV"
   ]
  },
  {
   "cell_type": "code",
   "execution_count": 68,
   "id": "cf34019c",
   "metadata": {},
   "outputs": [
    {
     "name": "stdout",
     "output_type": "stream",
     "text": [
      "                  Stock   Price                        Date\n",
      "0  Alphabet Inc Class A  127.46  2023-08-19 17:52:24.394096\n",
      "1  Alphabet Inc Class A  127.46  2023-08-19 17:52:24.394096\n",
      "2  Alphabet Inc Class A  127.46  2023-08-19 17:52:24.394096\n",
      "3  Alphabet Inc Class A  127.46  2023-08-19 17:52:24.394096\n"
     ]
    }
   ],
   "source": [
    "import pandas as pd\n",
    "\n",
    "df = pd.read_csv(r'C:\\Users\\brown\\JupyterNotebook\\GoogleStockTracking.csv')\n",
    "\n",
    "print(df)"
   ]
  },
  {
   "cell_type": "code",
   "execution_count": 67,
   "id": "54f4454d",
   "metadata": {},
   "outputs": [],
   "source": [
    "# 3) append data to the csv\n",
    "\n",
    "with open('GoogleStockTracking.csv', 'a+', newline='', encoding='UTF8') as f:\n",
    "    writer = csv.writer(f)\n",
    "    writer.writerow(data)\n",
    "\n"
   ]
  },
  {
   "cell_type": "code",
   "execution_count": 69,
   "id": "a457fbeb",
   "metadata": {},
   "outputs": [],
   "source": [
    "# To automate without the need to manually run this from python\n",
    "\n",
    "def check_price():\n",
    "    URL = 'https://www.google.com/search?q=Google+stock+tracker'\n",
    "    headers = {\n",
    "        \"User-Agent\": \"Mozilla/5.0 (Windows NT 10.0; Win64; x64) AppleWebKit/537.36 (KHTML, like Gecko) Chrome/115.0.0.0 Safari/537.36\"\n",
    "    }\n",
    "\n",
    "    response = requests.get(URL, headers=headers)\n",
    "    soup = BeautifulSoup(response.content, 'html.parser')\n",
    "\n",
    "    stock_name_element = soup.find('div', class_='PZPZlf ssJ7i B5dxMb')\n",
    "    stock_name = stock_name_element.get_text()\n",
    "\n",
    "    current_value_element = soup.find('span', class_='IsqQVc NprOob wT3VGc')\n",
    "    current_value = current_value_element.get_text()\n",
    "\n",
    "    today = datetime.date.today()\n",
    "    data = [stock_name, current_value, current_datetime]\n",
    "\n",
    "    with open('GoogleStockTracking.csv', 'a+', newline='', encoding='UTF8') as f:\n",
    "        writer = csv.writer(f)\n",
    "        writer.writerow(data)\n",
    "\n",
    "duration = 1 * 60\n",
    "\n",
    "# Get the current time\n",
    "start_time = time.time()\n",
    "\n",
    "# Main loop\n",
    "while True:\n",
    "    check_price()  # Call the check_price function\n",
    "\n",
    "    # Check if 1 minute has elapsed\n",
    "    elapsed_time = time.time() - start_time\n",
    "    if elapsed_time >= duration:\n",
    "        break  # Exit the loop after 1 minute\n",
    "\n",
    "    # Wait for one second\n",
    "    time.sleep(5)"
   ]
  },
  {
   "cell_type": "code",
   "execution_count": 70,
   "id": "8a241838",
   "metadata": {},
   "outputs": [
    {
     "name": "stdout",
     "output_type": "stream",
     "text": [
      "                   Stock   Price                        Date\n",
      "0   Alphabet Inc Class A  127.46  2023-08-19 17:52:24.394096\n",
      "1   Alphabet Inc Class A  127.46  2023-08-19 17:52:24.394096\n",
      "2   Alphabet Inc Class A  127.46  2023-08-19 17:52:24.394096\n",
      "3   Alphabet Inc Class A  127.46  2023-08-19 17:52:24.394096\n",
      "4   Alphabet Inc Class A  127.46  2023-08-19 17:52:24.394096\n",
      "5   Alphabet Inc Class A  127.46  2023-08-19 17:52:24.394096\n",
      "6   Alphabet Inc Class A  127.46  2023-08-19 17:52:24.394096\n",
      "7   Alphabet Inc Class A  127.46  2023-08-19 17:52:24.394096\n",
      "8   Alphabet Inc Class A  127.46  2023-08-19 17:52:24.394096\n",
      "9   Alphabet Inc Class A  127.46  2023-08-19 17:52:24.394096\n",
      "10  Alphabet Inc Class A  127.46  2023-08-19 17:52:24.394096\n",
      "11  Alphabet Inc Class A  127.46  2023-08-19 17:52:24.394096\n",
      "12  Alphabet Inc Class A  127.46  2023-08-19 17:52:24.394096\n",
      "13  Alphabet Inc Class A  127.46  2023-08-19 17:52:24.394096\n",
      "14  Alphabet Inc Class A  127.46  2023-08-19 17:52:24.394096\n"
     ]
    }
   ],
   "source": [
    "import pandas as pd\n",
    "\n",
    "df = pd.read_csv(r'C:\\Users\\brown\\JupyterNotebook\\GoogleStockTracking.csv')\n",
    "\n",
    "print(df)"
   ]
  }
 ],
 "metadata": {
  "kernelspec": {
   "display_name": "Python 3 (ipykernel)",
   "language": "python",
   "name": "python3"
  },
  "language_info": {
   "codemirror_mode": {
    "name": "ipython",
    "version": 3
   },
   "file_extension": ".py",
   "mimetype": "text/x-python",
   "name": "python",
   "nbconvert_exporter": "python",
   "pygments_lexer": "ipython3",
   "version": "3.10.9"
  }
 },
 "nbformat": 4,
 "nbformat_minor": 5
}
