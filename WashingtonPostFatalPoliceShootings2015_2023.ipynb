{
 "cells": [
  {
   "cell_type": "code",
   "execution_count": 3,
   "id": "30924fd1",
   "metadata": {},
   "outputs": [],
   "source": [
    "import pandas as pd"
   ]
  },
  {
   "cell_type": "code",
   "execution_count": 4,
   "id": "43d8c887",
   "metadata": {},
   "outputs": [],
   "source": [
    "file_path = 'FilePath.csv'\n",
    "\n",
    "# Read the CSV file into a DataFrame\n",
    "df = pd.read_csv(file_path)"
   ]
  },
  {
   "cell_type": "code",
   "execution_count": 9,
   "id": "b24498a3",
   "metadata": {},
   "outputs": [
    {
     "name": "stdout",
     "output_type": "stream",
     "text": [
      "   id        date threat_type flee_status armed_with           city  \\\n",
      "0   3  2015-01-02       point         not        gun        Shelton   \n",
      "1   4  2015-01-02       point         not        gun          Aloha   \n",
      "2   5  2015-01-03        move         not    unarmed        Wichita   \n",
      "3   8  2015-01-04       point         not    replica  San Francisco   \n",
      "4   9  2015-01-04       point         not      other          Evans   \n",
      "\n",
      "          county state   latitude   longitude location_precision  \\\n",
      "0          Mason    WA  47.246826 -123.121592      not_available   \n",
      "1     Washington    OR  45.487421 -122.891696      not_available   \n",
      "2       Sedgwick    KS  37.694766  -97.280554      not_available   \n",
      "3  San Francisco    CA  37.762910 -122.422001      not_available   \n",
      "4           Weld    CO  40.383937 -104.692261      not_available   \n",
      "\n",
      "                 name   age gender race    race_source  \\\n",
      "0          Tim Elliot  53.0   male    A  not_available   \n",
      "1    Lewis Lee Lembke  47.0   male    W  not_available   \n",
      "2  John Paul Quintero  23.0   male    H  not_available   \n",
      "3     Matthew Hoffman  32.0   male    W  not_available   \n",
      "4   Michael Rodriguez  39.0   male    H  not_available   \n",
      "\n",
      "   was_mental_illness_related  body_camera agency_ids  \n",
      "0                        True        False         73  \n",
      "1                       False        False         70  \n",
      "2                       False        False        238  \n",
      "3                        True        False        196  \n",
      "4                       False        False        473  \n",
      "(8735, 19)\n",
      "<class 'pandas.core.frame.DataFrame'>\n",
      "RangeIndex: 8735 entries, 0 to 8734\n",
      "Data columns (total 19 columns):\n",
      " #   Column                      Non-Null Count  Dtype  \n",
      "---  ------                      --------------  -----  \n",
      " 0   id                          8735 non-null   int64  \n",
      " 1   date                        8735 non-null   object \n",
      " 2   threat_type                 8692 non-null   object \n",
      " 3   flee_status                 7557 non-null   object \n",
      " 4   armed_with                  8525 non-null   object \n",
      " 5   city                        8681 non-null   object \n",
      " 6   county                      3879 non-null   object \n",
      " 7   state                       8735 non-null   object \n",
      " 8   latitude                    7755 non-null   float64\n",
      " 9   longitude                   7755 non-null   float64\n",
      " 10  location_precision          7755 non-null   object \n",
      " 11  name                        8158 non-null   object \n",
      " 12  age                         8134 non-null   float64\n",
      " 13  gender                      8685 non-null   object \n",
      " 14  race                        7336 non-null   object \n",
      " 15  race_source                 7358 non-null   object \n",
      " 16  was_mental_illness_related  8735 non-null   bool   \n",
      " 17  body_camera                 8735 non-null   bool   \n",
      " 18  agency_ids                  8733 non-null   object \n",
      "dtypes: bool(2), float64(3), int64(1), object(13)\n",
      "memory usage: 1.1+ MB\n",
      "None\n",
      "                id     latitude     longitude          age\n",
      "count  8735.000000  7755.000000  7.755000e+03  8134.000000\n",
      "mean   4811.502805    36.643995 -1.161467e+12    37.294566\n",
      "std    2723.790382     5.348527  1.022816e+14    12.998918\n",
      "min       3.000000    19.497503 -9.007175e+15     2.000000\n",
      "25%    2450.500000    33.471095 -1.120146e+02    27.000000\n",
      "50%    4840.000000    36.092754 -9.428830e+01    35.000000\n",
      "75%    7167.500000    39.998264 -8.318729e+01    45.000000\n",
      "max    9486.000000    71.301255 -6.786717e+01    92.000000\n"
     ]
    }
   ],
   "source": [
    "print(df.head())\n",
    "print(df.shape)\n",
    "print(df.info())\n",
    "print(df.describe())"
   ]
  },
  {
   "cell_type": "code",
   "execution_count": 5,
   "id": "63688138",
   "metadata": {},
   "outputs": [
    {
     "name": "stdout",
     "output_type": "stream",
     "text": [
      "                id     latitude     longitude          age\n",
      "count  8735.000000  7755.000000  7.755000e+03  8134.000000\n",
      "mean   4811.502805    36.643995 -1.161467e+12    37.294566\n",
      "std    2723.790382     5.348527  1.022816e+14    12.998918\n",
      "min       3.000000    19.497503 -9.007175e+15     2.000000\n",
      "25%    2450.500000    33.471095 -1.120146e+02    27.000000\n",
      "50%    4840.000000    36.092754 -9.428830e+01    35.000000\n",
      "75%    7167.500000    39.998264 -8.318729e+01    45.000000\n",
      "max    9486.000000    71.301255 -6.786717e+01    92.000000\n"
     ]
    }
   ],
   "source": [
    "# Use the describe() method to generate summary statistics for numeric columns\n",
    "description = df.describe()\n",
    "\n",
    "# Display the summary statistics\n",
    "print(description)"
   ]
  },
  {
   "cell_type": "code",
   "execution_count": 6,
   "id": "3532a48c",
   "metadata": {},
   "outputs": [
    {
     "name": "stdout",
     "output_type": "stream",
     "text": [
      "Average Age: 37.29456601917875\n"
     ]
    }
   ],
   "source": [
    "average_age = df['age'].mean()\n",
    "\n",
    "# Print the average age\n",
    "print(\"Average Age:\", average_age)"
   ]
  },
  {
   "cell_type": "code",
   "execution_count": 10,
   "id": "1423f141",
   "metadata": {},
   "outputs": [
    {
     "name": "stdout",
     "output_type": "stream",
     "text": [
      "Median age of unarmed individuals: 31.0\n"
     ]
    }
   ],
   "source": [
    "# Filter rows where 'armed_with' column contains 'unarmed'\n",
    "unarmed_df = df[df['armed_with'] == 'unarmed']\n",
    "\n",
    "# Calculate the median age of those who are unarmed\n",
    "median_age_unarmed = unarmed_df['age'].median()\n",
    "\n",
    "# Print the result\n",
    "print(\"Median age of unarmed individuals:\", median_age_unarmed)\n"
   ]
  },
  {
   "cell_type": "code",
   "execution_count": 20,
   "id": "0541137f",
   "metadata": {},
   "outputs": [
    {
     "name": "stdout",
     "output_type": "stream",
     "text": [
      "CA    1232\n",
      "TX     802\n",
      "FL     559\n",
      "AZ     396\n",
      "GA     331\n",
      "CO     316\n",
      "NC     252\n",
      "OH     250\n",
      "TN     247\n",
      "OK     239\n",
      "WA     234\n",
      "MO     230\n",
      "NM     184\n",
      "PA     181\n",
      "IL     177\n",
      "LA     172\n",
      "AL     167\n",
      "IN     165\n",
      "NY     160\n",
      "VA     160\n",
      "KY     156\n",
      "MI     149\n",
      "NV     142\n",
      "OR     140\n",
      "SC     139\n",
      "WI     133\n",
      "AR     119\n",
      "MD     115\n",
      "MS     115\n",
      "UT     106\n",
      "NJ     100\n",
      "MN      94\n",
      "KS      84\n",
      "WV      82\n",
      "ID      74\n",
      "MA      57\n",
      "AK      56\n",
      "MT      55\n",
      "IA      53\n",
      "HI      42\n",
      "NE      42\n",
      "ME      35\n",
      "SD      30\n",
      "WY      29\n",
      "DC      26\n",
      "NH      24\n",
      "CT      24\n",
      "DE      20\n",
      "ND      19\n",
      "VT      14\n",
      "RI       7\n",
      "Name: state, dtype: int64\n"
     ]
    }
   ],
   "source": [
    "# Group the DataFrame by the 'state' column and count the occurrences\n",
    "state_counts = df['state'].value_counts()\n",
    "\n",
    "# Print the state counts\n",
    "print(state_counts)"
   ]
  },
  {
   "cell_type": "code",
   "execution_count": 24,
   "id": "9baae122",
   "metadata": {},
   "outputs": [
    {
     "name": "stdout",
     "output_type": "stream",
     "text": [
      "Total Occurrences in 'state' column: 8735\n"
     ]
    }
   ],
   "source": [
    "# Calculate the sum of occurrences in the 'state' column\n",
    "total_state_occurrences = df['state'].count()\n",
    "\n",
    "# Print the total sum of occurrences\n",
    "print(\"Total Occurrences in 'state' column:\", total_state_occurrences)"
   ]
  },
  {
   "cell_type": "code",
   "execution_count": 22,
   "id": "a96138e4",
   "metadata": {},
   "outputs": [
    {
     "name": "stdout",
     "output_type": "stream",
     "text": [
      "Occurrences of 'unarmed': 514\n"
     ]
    }
   ],
   "source": [
    "# Filter rows where 'armed_with' column contains 'unarmed'\n",
    "unarmed_occurrences = df[df['armed_with'] == 'unarmed']\n",
    "\n",
    "# Count the occurrences of 'unarmed'\n",
    "unarmed_count = unarmed_occurrences.shape[0]\n",
    "\n",
    "# Print the count of 'unarmed' occurrences\n",
    "print(\"Occurrences of 'unarmed':\", unarmed_count)"
   ]
  },
  {
   "cell_type": "code",
   "execution_count": 25,
   "id": "5f3bafe1",
   "metadata": {},
   "outputs": [
    {
     "name": "stdout",
     "output_type": "stream",
     "text": [
      "Counts of 'unarmed' occurrences by race:\n",
      "W    199\n",
      "B    160\n",
      "H     94\n",
      "N      8\n",
      "A      8\n",
      "O      5\n",
      "Name: race, dtype: int64\n"
     ]
    }
   ],
   "source": [
    "# Filter rows where 'armed_with' column contains 'unarmed'\n",
    "unarmed_occurrences = df[df['armed_with'] == 'unarmed']\n",
    "\n",
    "# Group the filtered DataFrame by the 'race' column and count occurrences for each race\n",
    "race_counts = unarmed_occurrences['race'].value_counts()\n",
    "\n",
    "# Print the counts for each race\n",
    "print(\"Counts of 'unarmed' occurrences by race:\")\n",
    "print(race_counts)"
   ]
  },
  {
   "cell_type": "code",
   "execution_count": 11,
   "id": "e54d66fd",
   "metadata": {},
   "outputs": [],
   "source": [
    "import matplotlib.pyplot as plt"
   ]
  },
  {
   "cell_type": "code",
   "execution_count": 13,
   "id": "2ab4a58d",
   "metadata": {},
   "outputs": [
    {
     "data": {
      "image/png": "[encoded data removed]",
      "text/plain": [
       "<Figure size 720x432 with 1 Axes>"
      ]
     },
     "metadata": {
      "needs_background": "light"
     },
     "output_type": "display_data"
    }
   ],
   "source": [
    "# Filter rows where 'armed_with' column contains 'unarmed'\n",
    "unarmed_occurrences = df[df['armed_with'] == 'unarmed']\n",
    "\n",
    "# Group the filtered DataFrame by the 'race' column and count occurrences for each race\n",
    "race_counts = unarmed_occurrences['race'].value_counts()\n",
    "\n",
    "# Create a histogram of the counts\n",
    "plt.figure(figsize=(10, 6))\n",
    "plt.bar(race_counts.index, race_counts.values, color='skyblue')\n",
    "plt.title('Counts of \"unarmed\" occurrences by race')\n",
    "plt.xlabel('Race')\n",
    "plt.ylabel('Count')\n",
    "plt.xticks(rotation=45)  # Rotate x-axis labels for better readability\n",
    "plt.tight_layout()\n",
    "\n",
    "#Show the histogram\n",
    "plt.show()"
   ]
  },
  {
   "cell_type": "code",
   "execution_count": 22,
   "id": "71cb86f8",
   "metadata": {},
   "outputs": [
    {
     "name": "stdout",
     "output_type": "stream",
     "text": [
      "Total non-null race counts in 2023: 280\n",
      "Counts and percentages in 2023 by race:\n",
      "W: Count - 154, Percentage - 55.00%\n",
      "B: Count - 86, Percentage - 30.71%\n",
      "H: Count - 27, Percentage - 9.64%\n",
      "N: Count - 7, Percentage - 2.50%\n",
      "A: Count - 5, Percentage - 1.79%\n",
      "O: Count - 1, Percentage - 0.36%\n"
     ]
    }
   ],
   "source": [
    "# Filter rows where 'date' column equals 2023\n",
    "df_2023 = df[df['date'].str.contains('2023', na=False)]\n",
    "\n",
    "total_non_null_race_counts = race_counts.sum()\n",
    "print(\"Total non-null race counts in 2023:\", total_non_null_race_counts)\n",
    "\n",
    "# Calculate and print the percentage of race counts out of 280\n",
    "total = 280  # Assuming 280 is the total count\n",
    "race_percentages = (race_counts / total) * 100\n",
    "\n",
    "# Print the counts and percentages for each race\n",
    "print(\"Counts and percentages in 2023 by race:\")\n",
    "for race, count, percentage in zip(race_counts.index, race_counts.values, race_percentages):\n",
    "    print(f\"{race}: Count - {count}, Percentage - {percentage:.2f}%\")\n"
   ]
  },
  {
   "cell_type": "code",
   "execution_count": 15,
   "id": "a0538b22",
   "metadata": {},
   "outputs": [
    {
     "data": {
      "image/png": "[encoded data removed]",
      "text/plain": [
       "<Figure size 720x432 with 1 Axes>"
      ]
     },
     "metadata": {
      "needs_background": "light"
     },
     "output_type": "display_data"
    }
   ],
   "source": [
    "\n",
    "# Filter rows where 'date' column is equal to 2023\n",
    "df_2023 = df[df['date'].str.contains('2023', na=False)]\n",
    "\n",
    "# Count non-null values broken down by 'race' column\n",
    "race_counts = df_2023['race'].value_counts()\n",
    "\n",
    "# Create a histogram of the counts\n",
    "plt.figure(figsize=(10, 6))\n",
    "plt.bar(race_counts.index, race_counts.values, color='skyblue')\n",
    "plt.title('Counts of incidents in 2023 by race')\n",
    "plt.xlabel('Race')\n",
    "plt.ylabel('Count')\n",
    "plt.xticks(rotation=45)  # Rotate x-axis labels for better readability\n",
    "plt.tight_layout()\n",
    "\n",
    "# Show the histogram\n",
    "plt.show()"
   ]
  },
  {
   "cell_type": "code",
   "execution_count": 20,
   "id": "3e449ab7",
   "metadata": {},
   "outputs": [
    {
     "name": "stdout",
     "output_type": "stream",
     "text": [
      "Unarmed incident counts in 2023 by race:\n",
      "B    7\n",
      "W    7\n",
      "H    3\n",
      "N    1\n",
      "Name: race, dtype: int64\n",
      "Total unarmed incidents in 2023: 18\n"
     ]
    }
   ],
   "source": [
    "# Filter rows where 'date' column equals 2023\n",
    "df_2023 = df[df['date'].str.contains('2023', na=False)]\n",
    "\n",
    "# Filter rows where 'armed_with' column is 'unarmed' within the 2023 subset\n",
    "unarmed_2023_df = df_2023[df_2023['armed_with'] == 'unarmed']\n",
    "\n",
    "# Get non-null counts of unarmed incidents broken down by 'race'\n",
    "race_unarmed_counts = unarmed_2023_df['race'].value_counts()\n",
    "\n",
    "# Print the counts for each race\n",
    "print(\"Unarmed incident counts in 2023 by race:\")\n",
    "print(race_unarmed_counts)\n",
    "\n",
    "# Calculate the total unarmed incidents in 2023\n",
    "total_unarmed_incidents = race_unarmed_counts.sum()\n",
    "print(\"Total unarmed incidents in 2023:\", total_unarmed_incidents)"
   ]
  },
  {
   "cell_type": "markdown",
   "id": "6f224b7b",
   "metadata": {},
   "source": [
    "Summary of Data:\n",
    "\n",
    "Based on this dataset, we can see that out of a total of 8,735 cases of fatal police involved shootings that have occurred since the data was tracked by the Washington Post beginning in 2015;\n",
    "\n",
    "-There were 514 cases where the victim was unarmed. The median age was 31 years old:\n",
    "\n",
    "The numbers by race and ethnicity are as follows:\n",
    "White = 199 or 38.72% of all cases\n",
    "Black = 160 or 31.13% of all cases\n",
    "Hispanic = 94 or 18.29% of all cases\n",
    "Native American = 8 or 1.56% of all cases\n",
    "Asian = 8 or 1.56% of all cases\n",
    "Other = 5 or .97% of all cases\n",
    "\n",
    "-Moreover, the majority of cases 1232 or 14.10 % of all cases occurred in California\n",
    "\n"
   ]
  },
  {
   "cell_type": "markdown",
   "id": "f17ea357",
   "metadata": {},
   "source": [
    "Upon further analysis, we can see that in 2023, we had 280 fatal police shootings:\n",
    "\n",
    "The numbers by race and ethnicity are as follows:\n",
    "White: Count - 154, Percentage - 55.00%\n",
    "Black: Count - 86, Percentage - 30.71%\n",
    "Hispanic: Count - 27, Percentage - 9.64%\n",
    "Native American: Count - 7, Percentage - 2.50%\n",
    "Asian: Count - 5, Percentage - 1.79%\n",
    "Other: Count - 1, Percentage - 0.36%\n",
    "\n",
    "\n",
    "Conisidering that Black or African American's account for 13.6% of the population yet represent 31.13% of all fatal police shootings, and 30.71% of shootings involving unarmed cases, they are disproportionately more likely to be the victim of a deadly police involved shooting. These data still hold true in 2023 where Blacks account for 50% of unarmed cases (A total of 18 incidents recorded according to data collected from the Washington Post as of September 15, 2023). \n",
    "\n",
    "Although Non-Hispanic Whites accounted for 38.72% of all cases and 55% of unarmed cases respectively, the Non-Hispanic White population makes up 58.9% of the US population, therefore are stil less likely to succumb to a police involved shooting. \n",
    "\n",
    "Similarly, Hispanics accounted for 18.29% of all cases and 9.64% unarmed cases during this period. Hispanics account for 19.1% of the US population. Thus, are also less likely to succumb to police shooting.\n",
    "\n",
    "*Population Stats taken from current US Census Bureau data.\n",
    "\n",
    "\n",
    "\n",
    "\n"
   ]
  }
 ],
 "metadata": {
  "kernelspec": {
   "display_name": "Python 3",
   "language": "python",
   "name": "python3"
  },
  "language_info": {
   "codemirror_mode": {
    "name": "ipython",
    "version": 3
   },
   "file_extension": ".py",
   "mimetype": "text/x-python",
   "name": "python",
   "nbconvert_exporter": "python",
   "pygments_lexer": "ipython3",
   "version": "3.8.8"
  }
 },
 "nbformat": 4,
 "nbformat_minor": 5
}
